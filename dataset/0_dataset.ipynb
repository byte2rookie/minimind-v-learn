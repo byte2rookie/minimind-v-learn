{
 "cells": [
  {
   "cell_type": "markdown",
   "id": "a0e6e6cc",
   "metadata": {},
   "source": [
    "# 首先要搞清楚该项目的几个阶段\n",
    "- 1.pretrain阶段\n",
    "- 2.finetune阶段\n",
    "- 3.post-train阶段\n",
    "每个阶段都有对应的数据集<br>\n",
    "我们下载到../data文件夹中进行保存\n"
   ]
  },
  {
   "cell_type": "markdown",
   "id": "95be07e6",
   "metadata": {},
   "source": [
    "## pretrain数据集说明\n",
    "pretrain阶段主要用来让模型学会认字<br>\n",
    "一般包含有大量的潜在语义信息<br>\n",
    "我们打印其中的内容查看：\n",
    "\n",
    "\n"
   ]
  },
  {
   "cell_type": "code",
   "execution_count": 1,
   "id": "7dbee630",
   "metadata": {},
   "outputs": [
    {
     "name": "stdout",
     "output_type": "stream",
     "text": [
      "{\"text\": \"<|im_start|>鉴别一组中文文章的风格和特点，例如官方、口语、文言等。需要提供样例文章才能准确鉴别不同的风格和特点。<|im_end|> <|im_start|>好的，现在帮我查一下今天的天气怎么样?今天的天气依据地区而异。请问你需要我帮你查询哪个地区的天气呢？<|im_end|> <|im_start|>打开闹钟功能，定一个明天早上七点的闹钟。好的，我已经帮您打开闹钟功能，闹钟将在明天早上七点准时响起。<|im_end|> <|im_start|>为以下场景写一句话描述：一个孤独的老人坐在公园长椅上看着远处。一位孤独的老人坐在公园长椅上凝视远方。<|im_end|> <|im_start|>非常感谢你的回答。请告诉我，这些数据是关于什么主题的？这些数据是关于不同年龄段的男女人口比例分布的。<|im_end|> <|im_start|>帮我想一个有趣的标题。这个挺有趣的：\\\"如何成为一名成功的魔术师\\\" 调皮的标题往往会吸引读者的注意力。<|im_end|> <|im_start|>回答一个问题，地球的半径是多少？地球的平均半径约为6371公里，这是地球自赤道到两极的距离的平均值。<|im_end|> <|im_start|>识别文本中的语气，并将其分类为喜悦、悲伤、惊异等。\\n文本：“今天是我的生日！”这个文本的语气是喜悦。<|im_end|>\"}\n",
      "\n"
     ]
    }
   ],
   "source": [
    "with open(\"../data/pretrain_hq.jsonl\", \"r\", encoding=\"utf-8\") as f:\n",
    "    first_line = f.readline()  # 读取第一行\n",
    "    print(first_line)"
   ]
  },
  {
   "cell_type": "markdown",
   "id": "b238bc44",
   "metadata": {},
   "source": [
    "可以看到，其json内容为：\n",
    "```{\n",
    "    \"text\":\n",
    "            \"\n",
    "    <|im_start|>鉴别一组中文文章的风格和特点，例如官方、口语、文言等。需要提供样例文章才能准确鉴别不同的风格和特点。\n",
    "    <|im_end|> \n",
    "    <|im_start|>好的，现在帮我查一下今天的天气怎么样?今天的天气依据地区而异。请问你需要我帮你查询哪个地区的天气呢？\n",
    "    <|im_end|> \n",
    "    <|im_start|>打开闹钟功能，定一个明天早上七点的闹钟。好的，我已经帮您打开闹钟功能，闹钟将在明天早上七点准时响起。\n",
    "    <|im_end|> \n",
    "    <|im_start|>为以下场景写一句话描述：一个孤独的老人坐在公园长椅上看着远处。一位孤独的老人坐在公园长椅上凝视远方。\n",
    "    <|im_end|> \n",
    "    <|im_start|>非常感谢你的回答。请告诉我，这些数据是关于什么主题的？这些数据是关于不同年龄段的男女人口比例分布的。\n",
    "    <|im_end|> \n",
    "    <|im_start|>帮我想一个有趣的标题。这个挺有趣的：\\\"如何成为一名成功的魔术师\\\" 调皮的标题往往会吸引读者的注意力。\n",
    "    <|im_end|> \n",
    "    <|im_start|>回答一个问题，地球的半径是多少？地球的平均半径约为6371公里，这是地球自赤道到两极的距离的平均值。\n",
    "    <|im_end|> \n",
    "    <|im_start|>识别文本中的语气，并将其分类为喜悦、悲伤、惊异等。\\n文本：“今天是我的生日！”这个文本的语气是喜悦。\n",
    "    <|im_end|>\n",
    "            \"\n",
    "}```\n",
    "是这样子的一长串的对话文本，用<|im_start|>和<|im_end|>标记，和qwen等一致"
   ]
  },
  {
   "cell_type": "markdown",
   "id": "bb9313ad",
   "metadata": {},
   "source": [
    "## sft数据\n",
    "sft主要是用于对齐model的语气，口吻等的数据集\n",
    "打印数据结构：\n"
   ]
  },
  {
   "cell_type": "code",
   "execution_count": null,
   "id": "be61ac52",
   "metadata": {},
   "outputs": [],
   "source": []
  },
  {
   "cell_type": "markdown",
   "id": "52ab73a8",
   "metadata": {},
   "source": []
  }
 ],
 "metadata": {
  "kernelspec": {
   "display_name": "minimind",
   "language": "python",
   "name": "python3"
  },
  "language_info": {
   "codemirror_mode": {
    "name": "ipython",
    "version": 3
   },
   "file_extension": ".py",
   "mimetype": "text/x-python",
   "name": "python",
   "nbconvert_exporter": "python",
   "pygments_lexer": "ipython3",
   "version": "3.10.16"
  }
 },
 "nbformat": 4,
 "nbformat_minor": 5
}
