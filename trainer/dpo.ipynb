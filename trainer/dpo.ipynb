{
 "cells": [
  {
   "cell_type": "markdown",
   "id": "5756381d",
   "metadata": {},
   "source": [
    "## 关于DPO\n",
    "[DPO的数学原理推导](https://www.cnblogs.com/GreenOrange/p/18798910)<br>\n",
    "如果看不太懂可以结合B站的BV1rixye7ET6 [PPO原理的学习]  以及这个UP的DPO视频讲解来学习<br>\n",
    "DPO,PPO,GRPO 其实都只是作为一种对齐手段，用RL的方式offline-RL 简单的学会用户的偏好格式，其本质上是用少量的样本+更换loss 来学会对原有SFT模型进行的fine-tune，带来的仅仅只有少量的知识，大部分是挖掘基模的知识。<br>\n",
    "简而言之，DPO相比于PPO和GRPO，其主要优势在于不需要进行state-value模型的训练，也不需要打reward分的critor模型的训练，仅仅只需要一次训练，即可实现RLHF<br>\n",
    "目前在huggingface的trl库已经有了PPO和DPO等的实现，可以参考这个库来进行学习"
   ]
  },
  {
   "cell_type": "markdown",
   "id": "f262579f",
   "metadata": {},
   "source": [
    "### 设置训练参数\n"
   ]
  },
  {
   "cell_type": "code",
   "execution_count": 1,
   "id": "1419414c",
   "metadata": {},
   "outputs": [],
   "source": [
    "import torch\n",
    "class sft_args:\n",
    "    out_dir = \"../out\"\n",
    "    epochs = 1\n",
    "    batch_size = 32\n",
    "    learning_rate = 5e-4\n",
    "    device = \"cuda:3\" if torch.cuda.is_available() else \"cpu\"\n",
    "    dtype = \"bfloat16\"\n",
    "    use_wandb = False\n",
    "    wandb_project = \"MiniMind-DPO-512\"\n",
    "    num_workers = 1\n",
    "    ddp = False\n",
    "    accumulation_steps = 8\n",
    "    grad_clip = 1.0\n",
    "    warmup_iters = 0\n",
    "    log_interval = 100\n",
    "    save_interval = 100\n",
    "    local_rank = -1\n",
    "    embed_dim = 512\n",
    "    block_num = 8\n",
    "    max_seqlen = 1024\n",
    "    use_moe = False\n",
    "    data_path = \"../data/dpo_data.jsonl\"  # toy_dataset  \n",
    "    # data_path = \"../data/dpo.jsonl\" #full_dataset"
   ]
  },
  {
   "cell_type": "markdown",
   "id": "b2f0d58f",
   "metadata": {},
   "source": [
    "### 初始化model"
   ]
  },
  {
   "cell_type": "code",
   "execution_count": 2,
   "id": "4d0abdf3",
   "metadata": {},
   "outputs": [
    {
     "name": "stderr",
     "output_type": "stream",
     "text": [
      "/data/zyp/miniconda3/envs/minimind/lib/python3.10/site-packages/tqdm/auto.py:21: TqdmWarning: IProgress not found. Please update jupyter and ipywidgets. See https://ipywidgets.readthedocs.io/en/stable/user_install.html\n",
      "  from .autonotebook import tqdm as notebook_tqdm\n"
     ]
    },
    {
     "name": "stdout",
     "output_type": "stream",
     "text": [
      "查看工作设备 cuda:3\n"
     ]
    }
   ],
   "source": [
    "import sys\n",
    "import os\n",
    "\n",
    "# 获取当前 notebook 所在目录（trainer/）\n",
    "current_dir = os.path.dirname(os.path.abspath(\"__file__\"))  # 注意 Jupyter 中可能需要调整\n",
    "# 或者直接写死路径\n",
    "current_dir = \"/data/zyp/jinbu/ZZY/minimind-v-learn/trainer\"\n",
    "\n",
    "# 上一级目录就是项目根目录，拼接 model 路径\n",
    "model_dir = os.path.join(os.path.dirname(current_dir), \"model\")\n",
    "sys.path.append(model_dir)\n",
    "\n",
    "# 现在可以用绝对导入\n",
    "from model import MinimindForCausalLM, MinimindConfig\n",
    "train_args = sft_args()\n",
    "train_args.save_dir = os.path.join(train_args.out_dir)\n",
    "# 确保输出目录存在\n",
    "os.makedirs(train_args.save_dir, exist_ok=True)\n",
    "# 初始化模型配置\n",
    "config = MinimindConfig(\n",
    "    embed_dim=train_args.embed_dim,\n",
    "    block_num=train_args.block_num,\n",
    "    max_seqlen=train_args.max_seqlen,\n",
    ")\n",
    "print(f'查看工作设备 {train_args.device}')"
   ]
  },
  {
   "cell_type": "markdown",
   "id": "9dbcd4fa",
   "metadata": {},
   "source": [
    "### 加载model"
   ]
  },
  {
   "cell_type": "code",
   "execution_count": 3,
   "id": "02ccfeaf",
   "metadata": {},
   "outputs": [
    {
     "name": "stdout",
     "output_type": "stream",
     "text": [
      "加载模型参数 ../out/sft_full_512.pth\n",
      "LLM可训练总参数量：38.075 百万\n"
     ]
    },
    {
     "name": "stderr",
     "output_type": "stream",
     "text": [
      "huggingface/tokenizers: The current process just got forked, after parallelism has already been used. Disabling parallelism to avoid deadlocks...\n",
      "To disable this warning, you can either:\n",
      "\t- Avoid using `tokenizers` before the fork if possible\n",
      "\t- Explicitly set the environment variable TOKENIZERS_PARALLELISM=(true | false)\n"
     ]
    },
    {
     "name": "stdout",
     "output_type": "stream",
     "text": [
      "batch = {'x_chosen': tensor([[  2,  95, 101,  ...,   3,   3,   3],\n",
      "        [  2,  95, 101,  ...,   3,   3,   3]]), 'y_chosen': tensor([[ 95, 101, 315,  ...,   3,   3,   3],\n",
      "        [ 95, 101, 315,  ...,   3,   3,   3]]), 'mask_chosen': tensor([[0, 0, 0,  ..., 0, 0, 0],\n",
      "        [0, 0, 0,  ..., 0, 0, 0]]), 'x_rejected': tensor([[  2,  95, 101,  ...,   3,   3,   3],\n",
      "        [  2,  95, 101,  ...,   3,   3,   3]]), 'y_rejected': tensor([[ 95, 101, 315,  ...,   3,   3,   3],\n",
      "        [ 95, 101, 315,  ...,   3,   3,   3]]), 'mask_rejected': tensor([[0, 0, 0,  ..., 0, 0, 0],\n",
      "        [0, 0, 0,  ..., 0, 0, 0]])}\n"
     ]
    }
   ],
   "source": [
    "from transformers import AutoTokenizer\n",
    "import math\n",
    "from torch.utils.data import DataLoader\n",
    "import sys\n",
    "from pathlib import Path\n",
    "\n",
    "# 项目根目录：/data/zyp/jinbu/ZZY/minimind-v-learn\n",
    "root_dir = Path(\"/data/zyp/jinbu/ZZY/minimind-v-learn\")\n",
    "\n",
    "# 将根目录添加到 Python 可搜索路径\n",
    "sys.path.append(str(root_dir))\n",
    "from dataset.lm_dataset import PretrainDataset,SFTDataset,DPODataset\n",
    "\n",
    "def Logger(content):\n",
    "    print(content)\n",
    "\n",
    "def init_model(lm_config):\n",
    "    tokenizer = AutoTokenizer.from_pretrained('../model/')\n",
    "    model = MinimindForCausalLM(lm_config).to(train_args.device)\n",
    "    ref_model = MinimindForCausalLM(lm_config)\n",
    "    ref_model.eval()\n",
    "    ref_model.to(train_args.device)\n",
    "\n",
    "    moe_path = '_moe' if train_args.use_moe else ''\n",
    "    ckp = f'{train_args.save_dir}/sft_full_{lm_config.embed_dim}{moe_path}.pth'\n",
    "    state_dict = torch.load(ckp, map_location=train_args.device)\n",
    "    model.load_state_dict(state_dict, strict=False)\n",
    "    ref_model.load_state_dict(state_dict, strict=False)\n",
    "    Logger(f'加载模型参数 {ckp}')\n",
    "    Logger(f'LLM可训练总参数量：{sum(p.numel() for p in model.parameters() if p.requires_grad) / 1e6:.3f} 百万')\n",
    "    return model,ref_model,tokenizer\n",
    "\n",
    "\n",
    "model, ref_model,tokenizer = init_model(config)\n",
    "train_ds = DPODataset(\n",
    "    data_path=train_args.data_path,\n",
    "    tokenizer=tokenizer,\n",
    "    max_seqlen=train_args.max_seqlen,\n",
    ")   \n",
    "train_loader = DataLoader(\n",
    "    train_ds,\n",
    "    batch_size=train_args.batch_size,\n",
    "    shuffle=False,\n",
    "    num_workers=train_args.num_workers,\n",
    "    pin_memory=True,\n",
    "    drop_last=False\n",
    ")\n",
    "\n",
    "loader = iter(train_loader)\n",
    "batch = next(loader)\n",
    "# print(f'打印一个 batch 的数据:\\nX: {X}\\nY: {Y}\\nloss_mask: {loss_mask}\\n')\n",
    "# print(f'打印一个 iter 的数据:\\n{next(loader)}\\n')\n",
    "# print(f'数据集大小：{len(train_ds)}, DataLoader 大小：{len(loader)}')\n",
    "print(f\"batch = {batch}\")"
   ]
  },
  {
   "cell_type": "markdown",
   "id": "6333d6a7",
   "metadata": {},
   "source": [
    "### 学习率和优化器选择"
   ]
  },
  {
   "cell_type": "code",
   "execution_count": 4,
   "id": "738a8627",
   "metadata": {},
   "outputs": [],
   "source": [
    "# 优化器方面 选择 AdamW 优化器 并在混精度场景下创建 scaler 进行梯度缩放避免数值下溢\n",
    "from torch import optim\n",
    "from contextlib import nullcontext\n",
    "scaler = torch.cuda.amp.GradScaler(enabled=(train_args.dtype in ['float16', 'bfloat16']))\n",
    "optimizer = optim.AdamW(model.parameters(), lr=train_args.learning_rate)\n",
    "\n",
    "device_type = \"cuda\" if \"cuda\" in train_args.device else \"cpu\"\n",
    "ctx = nullcontext() if device_type == \"cpu\" else torch.cuda.amp.autocast() # 在 cuda 上启动混精度训练，否则空白上下文"
   ]
  },
  {
   "cell_type": "markdown",
   "id": "ff8f4f7f",
   "metadata": {},
   "source": [
    "### 设置训练的DPOLoss"
   ]
  },
  {
   "cell_type": "code",
   "execution_count": 5,
   "id": "b145bb0d",
   "metadata": {},
   "outputs": [],
   "source": [
    "from torch.nn import functional as F\n",
    "def logits_to_probs(logits, labels):\n",
    "    # logits shape: (batch_size, seq_len, vocab_size)\n",
    "    # labels shape: (batch_size, seq_len)\n",
    "    # probs shape: (batch_size, seq_len)\n",
    "    log_probs = F.log_softmax(logits, dim=2)\n",
    "    probs = torch.gather(log_probs, dim=2, index=labels.unsqueeze(2)).squeeze(-1)\n",
    "    return probs\n",
    "\n",
    "\n",
    "def dpo_loss(ref_probs, probs, beta):\n",
    "    # ref_probs 和 probs 都是 shape: (batch_size, seq_len)\n",
    "    # 计算每个样本的平均概率\n",
    "    ref_probs = ref_probs.mean(dim=1)\n",
    "    probs = probs.mean(dim=1)\n",
    "\n",
    "    # 将 chosen 和 rejected 数据分开\n",
    "    batch_size = ref_probs.shape[0]\n",
    "    chosen_ref_probs = ref_probs[:batch_size // 2]\n",
    "    reject_ref_probs = ref_probs[batch_size // 2:]\n",
    "    chosen_probs = probs[:batch_size // 2]\n",
    "    reject_probs = probs[batch_size // 2:]\n",
    "\n",
    "    # 计算对数比率，比较偏好差异\n",
    "    pi_logratios = chosen_probs - reject_probs\n",
    "    ref_logratios = chosen_ref_probs - reject_ref_probs\n",
    "    logits = pi_logratios - ref_logratios\n",
    "    loss = -F.logsigmoid(beta * logits)\n",
    "    return loss.mean()"
   ]
  },
  {
   "cell_type": "markdown",
   "id": "9ce3b9b4",
   "metadata": {},
   "source": [
    "### 设置训练函数"
   ]
  },
  {
   "cell_type": "code",
   "execution_count": 10,
   "id": "aab5cb6e",
   "metadata": {},
   "outputs": [],
   "source": [
    "from torch import nn\n",
    "import time\n",
    "iter_per_epoch = len(train_loader) # 计算每个 epoch 的迭代次数\n",
    "def get_lr(current_step, total_steps, lr):\n",
    "    # 余弦退火学习率调度\n",
    "    return lr / 10 + 0.5 * lr * (1 + math.cos(math.pi * current_step / total_steps))\n",
    "\n",
    "def train_epoch(epoch):\n",
    "    start_time = time.time()\n",
    "    for step, batch in enumerate(train_loader):\n",
    "        # 提取数据\n",
    "        x_chosen = batch['x_chosen'].to(train_args.device)\n",
    "        x_rejected = batch['x_rejected'].to(train_args.device)\n",
    "        y_chosen = batch['y_chosen'].to(train_args.device)\n",
    "        y_rejected = batch['y_rejected'].to(train_args.device)\n",
    "        mask_chosen = batch['mask_chosen'].to(train_args.device)\n",
    "        mask_rejected = batch['mask_rejected'].to(train_args.device)\n",
    "        # 正反例拼接\n",
    "        x = torch.cat([x_chosen, x_rejected], dim=0)\n",
    "        y = torch.cat([y_chosen, y_rejected], dim=0)\n",
    "        mask = torch.cat([mask_chosen, mask_rejected], dim=0)\n",
    "\n",
    "        lr = get_lr(epoch * iter_per_epoch + step, train_args.epochs * iter_per_epoch, train_args.learning_rate)\n",
    "        for param_group in optimizer.param_groups:\n",
    "            param_group['lr'] = lr\n",
    "\n",
    "        with ctx:\n",
    "            with torch.no_grad(): # 计算 ref 模型输出\n",
    "                ref_outputs = ref_model(x)\n",
    "                ref_logits = ref_outputs.logits\n",
    "            # print(f\"res={res}\")\n",
    "            # print(f\"X = {X}\")\n",
    "            ref_probs = logits_to_probs(ref_logits, y)\n",
    "            ref_probs = ref_probs * mask # 得到 ref 概率\n",
    "            outputs = model(x) # 计算 actor 模型输出\n",
    "            logits = outputs.logits\n",
    "            probs = logits_to_probs(logits, y)\n",
    "            probs = probs * mask # 得到 actor 概率\n",
    "            loss = dpo_loss(ref_probs, probs, beta=0.1) # dpo 损失\n",
    "            loss = loss / train_args.accumulation_steps\n",
    "\n",
    "        scaler.scale(loss).backward()\n",
    "\n",
    "        if (step + 1) % train_args.accumulation_steps == 0:\n",
    "            scaler.unscale_(optimizer)\n",
    "            torch.nn.utils.clip_grad_norm_(model.parameters(), train_args.grad_clip)\n",
    "\n",
    "            scaler.step(optimizer)\n",
    "            scaler.update()\n",
    "\n",
    "            optimizer.zero_grad(set_to_none=True)  # 清空梯度，为下一个iter做准备\n",
    "\n",
    "        if step % train_args.log_interval == 0:\n",
    "            spend_time = time.time() - start_time\n",
    "            Logger(\n",
    "                'Epoch:[{}/{}]({}/{}) loss:{:.3f} lr:{:.12f} epoch_Time:{}min:'.format(\n",
    "                    epoch + 1,\n",
    "                    train_args.epochs,\n",
    "                    step,\n",
    "                    iter_per_epoch,\n",
    "                    loss.item() * train_args.accumulation_steps,\n",
    "                    optimizer.param_groups[-1]['lr'],\n",
    "                    spend_time / (step + 1) * iter_per_epoch // 60 - spend_time // 60))\n",
    "\n",
    "\n",
    "        if (step + 1) % train_args.save_interval == 0:\n",
    "            model.eval()\n",
    "            moe_path = '_moe' if train_args.use_moe else ''\n",
    "            ckp = f'{train_args.save_dir}/dpo_{config.embed_dim}{moe_path}.pth'\n",
    "            Logger(f'保存模型到 {ckp}')\n",
    "            state_dict = model.state_dict()\n",
    "\n",
    "            state_dict = {k: v.half() for k, v in state_dict.items()}  # 半精度保存\n",
    "            torch.save(state_dict, ckp)\n",
    "            model.train()"
   ]
  },
  {
   "cell_type": "markdown",
   "id": "ae09dc2d",
   "metadata": {},
   "source": [
    "### 训练一轮"
   ]
  },
  {
   "cell_type": "code",
   "execution_count": 11,
   "id": "e5ff15e6",
   "metadata": {},
   "outputs": [
    {
     "name": "stderr",
     "output_type": "stream",
     "text": [
      "huggingface/tokenizers: The current process just got forked, after parallelism has already been used. Disabling parallelism to avoid deadlocks...\n",
      "To disable this warning, you can either:\n",
      "\t- Avoid using `tokenizers` before the fork if possible\n",
      "\t- Explicitly set the environment variable TOKENIZERS_PARALLELISM=(true | false)\n"
     ]
    },
    {
     "name": "stdout",
     "output_type": "stream",
     "text": [
      "Epoch:[1/1](0/1) loss:0.693 lr:0.000550000000 epoch_Time:0.0min:\n"
     ]
    }
   ],
   "source": [
    "iter_per_epoch = len(train_loader)\n",
    "for epoch in range(train_args.epochs):\n",
    "    train_epoch(epoch)"
   ]
  }
 ],
 "metadata": {
  "kernelspec": {
   "display_name": "minimind",
   "language": "python",
   "name": "python3"
  },
  "language_info": {
   "codemirror_mode": {
    "name": "ipython",
    "version": 3
   },
   "file_extension": ".py",
   "mimetype": "text/x-python",
   "name": "python",
   "nbconvert_exporter": "python",
   "pygments_lexer": "ipython3",
   "version": "3.10.16"
  }
 },
 "nbformat": 4,
 "nbformat_minor": 5
}
