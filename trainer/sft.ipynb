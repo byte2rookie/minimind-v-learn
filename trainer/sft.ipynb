{
 "cells": [
  {
   "cell_type": "markdown",
   "id": "40ddceb8",
   "metadata": {},
   "source": [
    "# SFT\n"
   ]
  }
 ],
 "metadata": {
  "language_info": {
   "name": "python"
  }
 },
 "nbformat": 4,
 "nbformat_minor": 5
}
