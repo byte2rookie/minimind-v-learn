{
 "cells": [
  {
   "cell_type": "markdown",
   "id": "b32453b6",
   "metadata": {},
   "source": [
    "# Pretrain阶段的训练"
   ]
  },
  {
   "cell_type": "markdown",
   "id": "9f5e686c",
   "metadata": {},
   "source": [
    "### 设置训练参数"
   ]
  },
  {
   "cell_type": "code",
   "execution_count": 1,
   "id": "e5a1d77c",
   "metadata": {},
   "outputs": [],
   "source": [
    "import torch\n",
    "class pretrain_args:\n",
    "    out_dir = \"../out\"\n",
    "    epochs = 1\n",
    "    batch_size = 32\n",
    "    learning_rate = 5e-4\n",
    "    device = \"cuda:0\" if torch.cuda.is_available() else \"cpu\"\n",
    "    dtype = \"bfloat16\"\n",
    "    use_wandb = False\n",
    "    wandb_project = \"MiniMind-Pretrain\"\n",
    "    num_workers = 1\n",
    "    ddp = False\n",
    "    accumulation_steps = 8\n",
    "    grad_clip = 1.0\n",
    "    warmup_iters = 0\n",
    "    log_interval = 100\n",
    "    save_interval = 100\n",
    "    local_rank = -1\n",
    "    embed_dim = 512\n",
    "    block_num = 8\n",
    "    max_seqlen = 1024\n",
    "    use_moe = False\n",
    "    data_path = \"../data/pretrain_data.jsonl\""
   ]
  },
  {
   "cell_type": "markdown",
   "id": "35fb2865",
   "metadata": {},
   "source": [
    "### 加载model"
   ]
  },
  {
   "cell_type": "code",
   "execution_count": 2,
   "id": "bb7ce093",
   "metadata": {},
   "outputs": [
    {
     "name": "stderr",
     "output_type": "stream",
     "text": [
      "/data/zyp/miniconda3/envs/minimind/lib/python3.10/site-packages/tqdm/auto.py:21: TqdmWarning: IProgress not found. Please update jupyter and ipywidgets. See https://ipywidgets.readthedocs.io/en/stable/user_install.html\n",
      "  from .autonotebook import tqdm as notebook_tqdm\n"
     ]
    },
    {
     "name": "stdout",
     "output_type": "stream",
     "text": [
      "查看工作设备 cuda:0\n"
     ]
    }
   ],
   "source": [
    "import sys\n",
    "import os\n",
    "\n",
    "# 获取当前 notebook 所在目录（trainer/）\n",
    "current_dir = os.path.dirname(os.path.abspath(\"__file__\"))  # 注意 Jupyter 中可能需要调整\n",
    "# 或者直接写死路径\n",
    "current_dir = \"/data/zyp/jinbu/ZZY/minimind-v-learn/trainer\"\n",
    "\n",
    "# 上一级目录就是项目根目录，拼接 model 路径\n",
    "model_dir = os.path.join(os.path.dirname(current_dir), \"model\")\n",
    "sys.path.append(model_dir)\n",
    "\n",
    "# 现在可以用绝对导入\n",
    "from model import MinimindForCausalLM, MinimindConfig\n",
    "train_args = pretrain_args()\n",
    "train_args.save_dir = os.path.join(train_args.out_dir)\n",
    "# 确保输出目录存在\n",
    "os.makedirs(train_args.save_dir, exist_ok=True)\n",
    "# 初始化模型配置\n",
    "config = MinimindConfig(\n",
    "    embed_dim=train_args.embed_dim,\n",
    "    block_num=train_args.block_num,\n",
    "    max_seqlen=train_args.max_seqlen,\n",
    ")\n",
    "print(f'查看工作设备 {train_args.device}')"
   ]
  },
  {
   "cell_type": "markdown",
   "id": "0d2d05da",
   "metadata": {},
   "source": [
    "# 单卡加载和训练（不采用DDP，wandb）"
   ]
  },
  {
   "cell_type": "code",
   "execution_count": 3,
   "id": "c53e8c0e",
   "metadata": {},
   "outputs": [
    {
     "name": "stdout",
     "output_type": "stream",
     "text": [
      "LLM可训练总参数量：38.075 百万\n",
      "MinimindForCausalLM(\n",
      "  (embed): Embed(\n",
      "    (embedding): Embedding(6400, 512)\n",
      "  )\n",
      "  (rmsnorm): RMSNorm()\n",
      "  (minimind_dense): Minimind_Dense(\n",
      "    (blocks): ModuleList(\n",
      "      (0-7): 8 x Minimind_Block(\n",
      "        (attention): GroupQueryAttention(\n",
      "          (q_proj): Linear(in_features=512, out_features=512, bias=True)\n",
      "          (k_proj): Linear(in_features=512, out_features=256, bias=True)\n",
      "          (v_proj): Linear(in_features=512, out_features=256, bias=True)\n",
      "          (o_proj): Linear(in_features=512, out_features=512, bias=True)\n",
      "          (attn_dropout): Dropout(p=0.1, inplace=False)\n",
      "          (res_dropout): Dropout(p=0.1, inplace=False)\n",
      "        )\n",
      "        (rmsnorm1): RMSNorm()\n",
      "        (ffn): FeedForward(\n",
      "          (gate): Linear(in_features=512, out_features=2048, bias=True)\n",
      "          (up_proj): Linear(in_features=512, out_features=2048, bias=True)\n",
      "          (down_proj): Linear(in_features=2048, out_features=512, bias=True)\n",
      "          (dropout): Dropout(p=0.1, inplace=False)\n",
      "          (act_fn): SiLU()\n",
      "        )\n",
      "        (rmsnorm2): RMSNorm()\n",
      "      )\n",
      "    )\n",
      "  )\n",
      "  (lm_head): Linear(in_features=512, out_features=6400, bias=True)\n",
      ")\n",
      "PreTrainedTokenizerFast(name_or_path='../model/', vocab_size=6400, model_max_length=32768, is_fast=True, padding_side='right', truncation_side='right', special_tokens={'bos_token': '<|im_start|>', 'eos_token': '<|im_end|>', 'unk_token': '<|endoftext|>', 'pad_token': '<pad>', 'additional_special_tokens': ['<pad>', '<mask>', '<s>', '</s>', '<unk>', '<UNK>', '<EOS>', '<zzy>', '<|s1|>', '<|s2|>']}, clean_up_tokenization_spaces=False, added_tokens_decoder={\n",
      "\t0: AddedToken(\"<endoftext>\", rstrip=False, lstrip=False, single_word=False, normalized=False, special=True),\n",
      "\t1: AddedToken(\"<|im_end|>\", rstrip=False, lstrip=False, single_word=False, normalized=False, special=True),\n",
      "\t2: AddedToken(\"<|im_start|>\", rstrip=False, lstrip=False, single_word=False, normalized=False, special=True),\n",
      "\t3: AddedToken(\"<pad>\", rstrip=False, lstrip=False, single_word=False, normalized=False, special=True),\n",
      "\t4: AddedToken(\"<mask>\", rstrip=False, lstrip=False, single_word=False, normalized=False, special=True),\n",
      "\t5: AddedToken(\"<s>\", rstrip=False, lstrip=False, single_word=False, normalized=False, special=True),\n",
      "\t6: AddedToken(\"</s>\", rstrip=False, lstrip=False, single_word=False, normalized=False, special=True),\n",
      "\t7: AddedToken(\"<unk>\", rstrip=False, lstrip=False, single_word=False, normalized=False, special=True),\n",
      "\t8: AddedToken(\"<UNK>\", rstrip=False, lstrip=False, single_word=False, normalized=False, special=True),\n",
      "\t9: AddedToken(\"<EOS>\", rstrip=False, lstrip=False, single_word=False, normalized=False, special=True),\n",
      "\t10: AddedToken(\"<zzy>\", rstrip=False, lstrip=False, single_word=False, normalized=False, special=True),\n",
      "\t11: AddedToken(\"<|s1|>\", rstrip=False, lstrip=False, single_word=False, normalized=False, special=True),\n",
      "\t12: AddedToken(\"<|s2|>\", rstrip=False, lstrip=False, single_word=False, normalized=False, special=True),\n",
      "\t6400: AddedToken(\"<|endoftext|>\", rstrip=False, lstrip=False, single_word=False, normalized=False, special=True),\n",
      "}\n",
      ")\n"
     ]
    },
    {
     "name": "stderr",
     "output_type": "stream",
     "text": [
      "/data/zyp/jinbu/ZZY/minimind-v-learn/dataset/lm_dataset.py:35: UserWarning: To copy construct from a tensor, it is recommended to use sourceTensor.clone().detach() or sourceTensor.clone().detach().requires_grad_(True), rather than torch.tensor(sourceTensor).\n",
      "  X=torch.tensor(input_ids[:-1],dtype=torch.long)  # 去掉最后一个token\n",
      "/data/zyp/jinbu/ZZY/minimind-v-learn/dataset/lm_dataset.py:36: UserWarning: To copy construct from a tensor, it is recommended to use sourceTensor.clone().detach() or sourceTensor.clone().detach().requires_grad_(True), rather than torch.tensor(sourceTensor).\n",
      "  Y=torch.tensor(input_ids[1:],dtype=torch.long)  # 去掉第一个\n",
      "/data/zyp/jinbu/ZZY/minimind-v-learn/dataset/lm_dataset.py:37: UserWarning: To copy construct from a tensor, it is recommended to use sourceTensor.clone().detach() or sourceTensor.clone().detach().requires_grad_(True), rather than torch.tensor(sourceTensor).\n",
      "  loss_mask = torch.tensor(loss_mask[1:], dtype=torch.long)\n"
     ]
    },
    {
     "name": "stdout",
     "output_type": "stream",
     "text": [
      "打印一个 iter 的数据:\n",
      "[tensor([[  56,   56,   57,  ...,    3,    3,    3],\n",
      "        [3002,  944, 1641,  ...,    3,    3,    3]]), tensor([[  56,   57, 1495,  ...,    3,    3,    3],\n",
      "        [ 944, 1641,  273,  ...,    3,    3,    3]]), tensor([[1, 1, 1,  ..., 0, 0, 0],\n",
      "        [1, 1, 1,  ..., 0, 0, 0]])]\n",
      "\n",
      "数据集大小：2, DataLoader 大小：1\n"
     ]
    }
   ],
   "source": [
    "from transformers import AutoTokenizer\n",
    "import math\n",
    "from torch.utils.data import DataLoader\n",
    "import sys\n",
    "from pathlib import Path\n",
    "\n",
    "# 项目根目录：/data/zyp/jinbu/ZZY/minimind-v-learn\n",
    "root_dir = Path(\"/data/zyp/jinbu/ZZY/minimind-v-learn\")\n",
    "\n",
    "# 将根目录添加到 Python 可搜索路径\n",
    "sys.path.append(str(root_dir))\n",
    "from dataset.lm_dataset import PretrainDataset\n",
    "\n",
    "def Logger(content):\n",
    "    print(content)\n",
    "\n",
    "def init_model(lm_config):\n",
    "    tokenizer = AutoTokenizer.from_pretrained('../model/')\n",
    "    model = MinimindForCausalLM(lm_config).to(train_args.device)\n",
    "    Logger(f'LLM可训练总参数量：{sum(p.numel() for p in model.parameters() if p.requires_grad) / 1e6:.3f} 百万')\n",
    "    return model, tokenizer\n",
    "\n",
    "\n",
    "model, tokenizer = init_model(config)\n",
    "print(model)\n",
    "print(tokenizer)\n",
    "train_ds = PretrainDataset(\n",
    "    data_path=train_args.data_path,\n",
    "    tokenizer=tokenizer,\n",
    "    max_seqlen=train_args.max_seqlen,\n",
    ")   \n",
    "train_loader = DataLoader(\n",
    "    train_ds,\n",
    "    batch_size=train_args.batch_size,\n",
    "    shuffle=True,\n",
    "    num_workers=train_args.num_workers,\n",
    "    pin_memory=True,\n",
    "    drop_last=False\n",
    ")\n",
    "\n",
    "loader = iter(train_loader)\n",
    "print(f'打印一个 iter 的数据:\\n{next(loader)}\\n')\n",
    "print(f'数据集大小：{len(train_ds)}, DataLoader 大小：{len(loader)}')"
   ]
  },
  {
   "cell_type": "markdown",
   "id": "be1a83bd",
   "metadata": {},
   "source": [
    "### 选定优化器和scaler，自动进行混合精度训练加速\n",
    "[常见的optimizer](https://zhuanlan.zhihu.com/p/416979875)<br>\n",
    "[最新的Muon optimizer](https://blog.csdn.net/weixin_44778145/article/details/148722786)<br>\n",
    "[混合精度原理](https://www.cnblogs.com/jimchen1218/p/14315008.html)"
   ]
  },
  {
   "cell_type": "code",
   "execution_count": 4,
   "id": "95edb179",
   "metadata": {},
   "outputs": [],
   "source": [
    "# 优化器方面 选择 AdamW 优化器 并在混精度场景下创建 scaler 进行梯度缩放避免数值下溢\n",
    "from torch import optim\n",
    "from contextlib import nullcontext\n",
    "scaler = torch.cuda.amp.GradScaler(enabled=(train_args.dtype in ['float16', 'bfloat16']))\n",
    "optimizer = optim.AdamW(model.parameters(), lr=train_args.learning_rate)\n",
    "\n",
    "device_type = \"cuda\" if \"cuda\" in train_args.device else \"cpu\"\n",
    "ctx = nullcontext() if device_type == \"cpu\" else torch.cuda.amp.autocast() # 在 cuda 上启动混精度训练，否则空白上下文"
   ]
  },
  {
   "cell_type": "markdown",
   "id": "10952d9d",
   "metadata": {},
   "source": [
    "### 正式进行训练\n",
    "[余弦退火学习率](https://blog.csdn.net/weixin_42392454/article/details/127766771)<br>\n",
    "[CrossEntropy介绍]()<br>\n",
    "[梯度裁剪-clip_grad_norm全解](https://www.hubtools.cn/2025/clip_grad_norm.html)"
   ]
  },
  {
   "cell_type": "code",
   "execution_count": 9,
   "id": "65a6722c",
   "metadata": {},
   "outputs": [],
   "source": [
    "from torch import nn\n",
    "import time\n",
    "iter_per_epoch = len(train_loader) # 计算每个 epoch 的迭代次数\n",
    "def get_lr(current_step, total_steps, lr):\n",
    "    # 余弦退火学习率调度\n",
    "    return lr / 10 + 0.5 * lr * (1 + math.cos(math.pi * current_step / total_steps))\n",
    "\n",
    "def train_epoch(epoch):\n",
    "    loss_fct = nn.CrossEntropyLoss(reduction='none')\n",
    "    start_time = time.time()\n",
    "    for step, (X, Y, loss_mask) in enumerate(train_loader):\n",
    "        X = X.to(train_args.device)\n",
    "        Y = Y.to(train_args.device)\n",
    "        loss_mask = loss_mask.to(train_args.device)\n",
    "\n",
    "        lr = get_lr(epoch * iter_per_epoch + step, train_args.epochs * iter_per_epoch, train_args.learning_rate)\n",
    "        for param_group in optimizer.param_groups:\n",
    "            param_group['lr'] = lr\n",
    "\n",
    "        with ctx:\n",
    "            res = model(X)\n",
    "            if torch.isnan(res.logits).any() or torch.isinf(res.logits).any():\n",
    "                Logger(f\"Warning: logits contains NaN/Inf at step {step}\")\n",
    "                # 打印logits的范围，辅助排查\n",
    "                Logger(f\"logits range: {res.logits.min().item()} ~ {res.logits.max().item()}\")\n",
    "            loss = loss_fct(\n",
    "                res.logits.view(-1, res.logits.size(-1)),\n",
    "                Y.view(-1)\n",
    "            ).view(Y.size())\n",
    "            print(f\"loss_mask.sum(): {loss_mask.sum()}\")\n",
    "            loss = (loss * loss_mask).sum() / loss_mask.sum() # 这里的loss 是有效非pad的token的平均loss\n",
    "            # loss += res.aux_loss\n",
    "            loss = loss / train_args.accumulation_steps\n",
    "\n",
    "        scaler.scale(loss).backward()\n",
    "\n",
    "        if (step + 1) % train_args.accumulation_steps == 0:\n",
    "            scaler.unscale_(optimizer)\n",
    "            torch.nn.utils.clip_grad_norm_(model.parameters(), train_args.grad_clip)\n",
    "\n",
    "            scaler.step(optimizer)\n",
    "            scaler.update()\n",
    "\n",
    "            optimizer.zero_grad(set_to_none=True)  # 清空梯度，为下一个iter做准备\n",
    "\n",
    "        if step % train_args.log_interval == 0:\n",
    "            spend_time = time.time() - start_time\n",
    "            Logger(\n",
    "                'Epoch:[{}/{}]({}/{}) loss:{:.3f} lr:{:.12f} epoch_Time:{}min:'.format(\n",
    "                    epoch + 1,\n",
    "                    train_args.epochs,\n",
    "                    step,\n",
    "                    iter_per_epoch,\n",
    "                    loss.item() * train_args.accumulation_steps,\n",
    "                    optimizer.param_groups[-1]['lr'],\n",
    "                    spend_time / (step + 1) * iter_per_epoch // 60 - spend_time // 60))\n",
    "\n",
    "\n",
    "        if (step + 1) % train_args.save_interval == 0:\n",
    "            model.eval()\n",
    "            moe_path = '_moe' if train_args.use_moe else ''\n",
    "            ckp = f'{train_args.save_dir}/pretrain_{config.embed_dim}{moe_path}.pth'\n",
    "            Logger(f'保存模型到 {ckp}')\n",
    "            state_dict = model.state_dict()\n",
    "\n",
    "            state_dict = {k: v.half() for k, v in state_dict.items()}  # 半精度保存\n",
    "            torch.save(state_dict, ckp)\n",
    "            model.train()"
   ]
  },
  {
   "cell_type": "markdown",
   "id": "17e3a627",
   "metadata": {},
   "source": [
    "## 开始训练！ "
   ]
  },
  {
   "cell_type": "code",
   "execution_count": 10,
   "id": "25424934",
   "metadata": {},
   "outputs": [
    {
     "name": "stderr",
     "output_type": "stream",
     "text": [
      "/data/zyp/jinbu/ZZY/minimind-v-learn/dataset/lm_dataset.py:35: UserWarning: To copy construct from a tensor, it is recommended to use sourceTensor.clone().detach() or sourceTensor.clone().detach().requires_grad_(True), rather than torch.tensor(sourceTensor).\n",
      "  X=torch.tensor(input_ids[:-1],dtype=torch.long)  # 去掉最后一个token\n",
      "/data/zyp/jinbu/ZZY/minimind-v-learn/dataset/lm_dataset.py:36: UserWarning: To copy construct from a tensor, it is recommended to use sourceTensor.clone().detach() or sourceTensor.clone().detach().requires_grad_(True), rather than torch.tensor(sourceTensor).\n",
      "  Y=torch.tensor(input_ids[1:],dtype=torch.long)  # 去掉第一个\n",
      "/data/zyp/jinbu/ZZY/minimind-v-learn/dataset/lm_dataset.py:37: UserWarning: To copy construct from a tensor, it is recommended to use sourceTensor.clone().detach() or sourceTensor.clone().detach().requires_grad_(True), rather than torch.tensor(sourceTensor).\n",
      "  loss_mask = torch.tensor(loss_mask[1:], dtype=torch.long)\n"
     ]
    },
    {
     "name": "stdout",
     "output_type": "stream",
     "text": [
      "Warning: logits contains NaN/Inf at step 0\n",
      "logits range: nan ~ nan\n",
      "loss_mask.sum(): 409\n",
      "Epoch:[1/1](0/1) loss:nan lr:0.000550000000 epoch_Time:0.0min:\n"
     ]
    }
   ],
   "source": [
    "for epoch in range(train_args.epochs):\n",
    "    train_epoch(epoch)"
   ]
  },
  {
   "cell_type": "markdown",
   "id": "8d87f36e",
   "metadata": {},
   "source": [
    "# !重大问题，loss 怎么是Nan????"
   ]
  },
  {
   "cell_type": "markdown",
   "id": "70f59696",
   "metadata": {},
   "source": []
  }
 ],
 "metadata": {
  "kernelspec": {
   "display_name": "minimind",
   "language": "python",
   "name": "python3"
  },
  "language_info": {
   "codemirror_mode": {
    "name": "ipython",
    "version": 3
   },
   "file_extension": ".py",
   "mimetype": "text/x-python",
   "name": "python",
   "nbconvert_exporter": "python",
   "pygments_lexer": "ipython3",
   "version": "3.10.16"
  }
 },
 "nbformat": 4,
 "nbformat_minor": 5
}
