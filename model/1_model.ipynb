{
 "cells": [
  {
   "cell_type": "markdown",
   "id": "fa6350ee",
   "metadata": {},
   "source": [
    "# 搭建我们的model\n",
    "![minimind结构](../images/LLM-structure.png)"
   ]
  },
  {
   "cell_type": "markdown",
   "id": "a382d839",
   "metadata": {},
   "source": []
  },
  {
   "cell_type": "code",
   "execution_count": null,
   "id": "95032383",
   "metadata": {},
   "outputs": [],
   "source": []
  }
 ],
 "metadata": {
  "kernelspec": {
   "display_name": "minimind",
   "language": "python",
   "name": "python3"
  },
  "language_info": {
   "name": "python",
   "version": "3.10.16"
  }
 },
 "nbformat": 4,
 "nbformat_minor": 5
}
